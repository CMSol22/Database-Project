{
  "nbformat": 4,
  "nbformat_minor": 0,
  "metadata": {
    "colab": {
      "name": "Pet Shop ERD.ipynb",
      "provenance": [],
      "authorship_tag": "ABX9TyO9V5fpEOm4m6zxvXTogZoy",
      "include_colab_link": true
    },
    "kernelspec": {
      "name": "python3",
      "display_name": "Python 3"
    }
  },
  "cells": [
    {
      "cell_type": "markdown",
      "metadata": {
        "id": "view-in-github",
        "colab_type": "text"
      },
      "source": [
        "<a href=\"https://colab.research.google.com/github/CMSol22/Database-Project/blob/master/Pet_Shop_ERD.ipynb\" target=\"_parent\"><img src=\"https://colab.research.google.com/assets/colab-badge.svg\" alt=\"Open In Colab\"/></a>"
      ]
    },
    {
      "cell_type": "markdown",
      "metadata": {
        "id": "oIbLerIsiHG0"
      },
      "source": [
        "In my diagram, I have identified five tables/eintities that needed to be present, however, not all of them are connected.\n",
        "\n",
        "The customer eintity is connected to both the pet and food eintities as a one-to-many optional relationship, since one customer has the ability to adopt multiple pets and make multiple food purchases, or do neither of those two actions.  It also has a one-to-one optional relationship with the Loyalty Program eintity, as one customer can choose have a loyaly membership with the pet shop.\n",
        "\n",
        "The pet eintity has a one-to-one relationship with the food eintity since one pet can eat multiple meals.  The pet eintity is also connected to the Enclosure eintity via a many-to-many optional relationship since an enclosure can have one pet, many pets, or no pets at all."
      ]
    },
    {
      "cell_type": "markdown",
      "metadata": {
        "id": "W8X9XppwiKzn"
      },
      "source": [
        "![Pet Shop](https://raw.githubusercontent.com/CMSol22/Database-Project/master/Images/Pet%20Shop.png)"
      ]
    }
  ]
}