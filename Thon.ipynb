{
  "nbformat": 4,
  "nbformat_minor": 0,
  "metadata": {
    "colab": {
      "name": "Thon.ipynb",
      "provenance": [],
      "collapsed_sections": [],
      "include_colab_link": true
    },
    "kernelspec": {
      "name": "python3",
      "display_name": "Python 3"
    }
  },
  "cells": [
    {
      "cell_type": "markdown",
      "metadata": {
        "id": "view-in-github",
        "colab_type": "text"
      },
      "source": [
        "<a href=\"https://colab.research.google.com/github/CMSol22/Database-Project/blob/master/Thon.ipynb\" target=\"_parent\"><img src=\"https://colab.research.google.com/assets/colab-badge.svg\" alt=\"Open In Colab\"/></a>"
      ]
    },
    {
      "cell_type": "markdown",
      "metadata": {
        "id": "UwDmKCxRLvWM"
      },
      "source": [
        "![THON3.png](https://raw.githubusercontent.com/CMSol22/Database-Project/master/Images/THON3.png)"
      ]
    },
    {
      "cell_type": "code",
      "metadata": {
        "id": "EG4orOWQLlMC",
        "colab": {
          "base_uri": "https://localhost:8080/",
          "height": 35
        },
        "outputId": "36a651f6-41b9-44d7-cd8c-db40f8d54101"
      },
      "source": [
        "%load_ext sql\n",
        "%sql sqlite:///thon.db"
      ],
      "execution_count": null,
      "outputs": [
        {
          "output_type": "execute_result",
          "data": {
            "application/vnd.google.colaboratory.intrinsic+json": {
              "type": "string"
            },
            "text/plain": [
              "'Connected: @thon.db'"
            ]
          },
          "metadata": {
            "tags": []
          },
          "execution_count": 1
        }
      ]
    },
    {
      "cell_type": "code",
      "metadata": {
        "id": "PHYFS4PPNOKc",
        "colab": {
          "base_uri": "https://localhost:8080/"
        },
        "outputId": "70d99102-b882-4ab9-aa98-391ae387f19b"
      },
      "source": [
        "%%sql   \n",
        "DROP TABLE IF EXISTS Attendees;\n",
        "CREATE TABLE Attendees(attendeeID text primary key, wristbandNumber integer, firstname text, lastname text);\n",
        "\n",
        "DROP TABLE IF EXISTS Organizations;\n",
        "create table Organizations(orgID text primary key, orgType text, moneyTotal real, numMembers integer);\n",
        "\n",
        "DROP TABLE IF EXISTS Fundraising;\n",
        "create table Fundraising(eventID text primary key, eventType text, numAttendees integer, totalSales real);\n",
        "\n",
        "DROP TABLE IF EXISTS ThonWeekend;\n",
        "create table ThonWeekend(ThonID text primary key, capacity integer, activities text, guestShows text, totalRaised real);\n",
        "\n",
        "DROP TABLE IF EXISTS DonationRecipients;\n",
        "create table DonationRecipients(donationID text primary key, researchers text, ThonFamilies text, fourDiamonds text);\n"
      ],
      "execution_count": null,
      "outputs": [
        {
          "output_type": "stream",
          "text": [
            " * sqlite:///thon.db\n",
            "Done.\n",
            "Done.\n",
            "Done.\n",
            "Done.\n",
            "Done.\n",
            "Done.\n",
            "Done.\n",
            "Done.\n",
            "Done.\n",
            "Done.\n"
          ],
          "name": "stdout"
        },
        {
          "output_type": "execute_result",
          "data": {
            "text/plain": [
              "[]"
            ]
          },
          "metadata": {
            "tags": []
          },
          "execution_count": 2
        }
      ]
    },
    {
      "cell_type": "code",
      "metadata": {
        "id": "EkH7wFShQ4ng",
        "colab": {
          "base_uri": "https://localhost:8080/"
        },
        "outputId": "bdc90bb4-a26a-4b38-ac70-7b879674aa58"
      },
      "source": [
        "%%sql \n",
        "INSERT INTO Attendees VALUES ('00001',000345,'Christopher','Moreno');\n",
        "INSERT INTO Attendees VALUES ('00002',196987,'Kevin','Schmoeller');\n",
        "INSERT INTO Attendees VALUES ('00003',184200,'Moussa','Diakite');\n",
        "INSERT INTO Attendees VALUES ('00004',145556,'Avery','Briggs');\n",
        "INSERT INTO Attendees VALUES ('00005',002654,'Jenn','Smith');\n",
        "\n",
        "INSERT INTO Organizations VALUES ('Alpha Sigma Phi','Fraternity',56782.55,64);\n",
        "INSERT INTO Organizations VALUES ('Delta Zeta','Sorority',55467.89,36);\n",
        "INSERT INTO Organizations VALUES ('Atlas','THON Org',70654.35,87);\n",
        "INSERT INTO Organizations VALUES ('Volé','Club',53678.23,55);\n",
        "INSERT INTO Organizations VALUES ('PSET','Club',67764.92,43);\n",
        "\n",
        "INSERT INTO Fundraising VALUES ('001','Weirdoughs Partnership',102,445.67);\n",
        "INSERT INTO Fundraising VALUES ('002','Starbucks Partnership',167,556.04);\n",
        "INSERT INTO Fundraising VALUES ('003','Puppy Petting',82,267.00);\n",
        "INSERT INTO Fundraising VALUES ('004','Bake Sale',63,118.50);\n",
        "INSERT INTO Fundraising VALUES ('005','Instagram Story Donation Boards',16,347.32);\n",
        "\n",
        "INSERT INTO ThonWeekend VALUES ('2016',15261,'Facepainting','Fall Out Boy',9770332.32);\n",
        "INSERT INTO ThonWeekend VALUES ('2017',15986,'Watergun Fight','Logic',10045478.44);\n",
        "INSERT INTO ThonWeekend VALUES ('2018',16000,'Dunk Tank','Halsey',10151663.93);\n",
        "INSERT INTO ThonWeekend VALUES ('2019',15617,'Dance-Off','Cash Cash',10621683.73);\n",
        "INSERT INTO ThonWeekend VALUES ('2020',7500,'Karaoke','Jonas Brothers',9436218.61);\n",
        "\n",
        "INSERT INTO DonationRecipients VALUES ('THON 2016','Yale New Haven','Family 1','$9,645,223.00');\n",
        "INSERT INTO DonationRecipients VALUES ('THON 2017','St. Jude','Family 2','$9,866,745.00');\n",
        "INSERT INTO DonationRecipients VALUES ('THON 2018','Four Diamonds','Family 3','$9,801,233.00');\n",
        "INSERT INTO DonationRecipients VALUES ('THON 2019','PCRF','Family 4','$9,900,230.00');\n",
        "INSERT INTO DonationRecipients VALUES ('THON 2020','PCF','Family 5','$8,947,005.00');\n"
      ],
      "execution_count": null,
      "outputs": [
        {
          "output_type": "stream",
          "text": [
            " * sqlite:///thon.db\n",
            "1 rows affected.\n",
            "1 rows affected.\n",
            "1 rows affected.\n",
            "1 rows affected.\n",
            "1 rows affected.\n",
            "1 rows affected.\n",
            "1 rows affected.\n",
            "1 rows affected.\n",
            "1 rows affected.\n",
            "1 rows affected.\n",
            "1 rows affected.\n",
            "1 rows affected.\n",
            "1 rows affected.\n",
            "1 rows affected.\n",
            "1 rows affected.\n",
            "1 rows affected.\n",
            "1 rows affected.\n",
            "1 rows affected.\n",
            "1 rows affected.\n",
            "1 rows affected.\n",
            "1 rows affected.\n",
            "1 rows affected.\n",
            "1 rows affected.\n",
            "1 rows affected.\n",
            "1 rows affected.\n"
          ],
          "name": "stdout"
        },
        {
          "output_type": "execute_result",
          "data": {
            "text/plain": [
              "[]"
            ]
          },
          "metadata": {
            "tags": []
          },
          "execution_count": 3
        }
      ]
    },
    {
      "cell_type": "markdown",
      "metadata": {
        "id": "hyg5_qaVV0tA"
      },
      "source": [
        ""
      ]
    },
    {
      "cell_type": "markdown",
      "metadata": {
        "id": "G0OFRTobD7Nk"
      },
      "source": [
        "Question 1: What are the top three organizations in terms of money raised?"
      ]
    },
    {
      "cell_type": "code",
      "metadata": {
        "id": "4rraUr8Ubizd",
        "colab": {
          "base_uri": "https://localhost:8080/",
          "height": 133
        },
        "outputId": "a1c99d9b-77d8-44af-8c09-a31a433467be"
      },
      "source": [
        "%%sql\n",
        "SELECT orgID FROM Organizations ORDER BY moneyTotal DESC limit 3;"
      ],
      "execution_count": null,
      "outputs": [
        {
          "output_type": "stream",
          "text": [
            " * sqlite:///thon.db\n",
            "Done.\n"
          ],
          "name": "stdout"
        },
        {
          "output_type": "execute_result",
          "data": {
            "text/html": [
              "<table>\n",
              "    <tr>\n",
              "        <th>orgID</th>\n",
              "    </tr>\n",
              "    <tr>\n",
              "        <td>Atlas</td>\n",
              "    </tr>\n",
              "    <tr>\n",
              "        <td>PSET</td>\n",
              "    </tr>\n",
              "    <tr>\n",
              "        <td>Alpha Sigma Phi</td>\n",
              "    </tr>\n",
              "</table>"
            ],
            "text/plain": [
              "[('Atlas',), ('PSET',), ('Alpha Sigma Phi',)]"
            ]
          },
          "metadata": {
            "tags": []
          },
          "execution_count": 19
        }
      ]
    },
    {
      "cell_type": "markdown",
      "metadata": {
        "id": "wk0QK6DgWQqJ"
      },
      "source": [
        "This question is possibly the most important out of the three, since it identifies not necessarily what group raised the largest amount of money, but how most groups did overall.  Using the same select command for next year’s THON would allow people to analyze what groups exceeded or fell short of their total fundraising from the previous year.  The results did add up to my expectations since the group with the highest amount of money raised was first in the list."
      ]
    },
    {
      "cell_type": "markdown",
      "metadata": {
        "id": "RnRxre9TD8_z"
      },
      "source": [
        "Question 2: How many attendees have the letter 'a' in their first name?"
      ]
    },
    {
      "cell_type": "code",
      "metadata": {
        "id": "iwdXnCy_cyPX",
        "colab": {
          "base_uri": "https://localhost:8080/",
          "height": 93
        },
        "outputId": "ab684734-c0db-4865-d559-6bc940bb6caf"
      },
      "source": [
        "%%sql\n",
        "SELECT COUNT(firstname) FROM Attendees WHERE firstname LIKE '%a%';"
      ],
      "execution_count": null,
      "outputs": [
        {
          "output_type": "stream",
          "text": [
            " * sqlite:///thon.db\n",
            "Done.\n"
          ],
          "name": "stdout"
        },
        {
          "output_type": "execute_result",
          "data": {
            "text/html": [
              "<table>\n",
              "    <tr>\n",
              "        <th>COUNT(firstname)</th>\n",
              "    </tr>\n",
              "    <tr>\n",
              "        <td>2</td>\n",
              "    </tr>\n",
              "</table>"
            ],
            "text/plain": [
              "[(2,)]"
            ]
          },
          "metadata": {
            "tags": []
          },
          "execution_count": 20
        }
      ]
    },
    {
      "cell_type": "markdown",
      "metadata": {
        "id": "f3rkt1ylWPxi"
      },
      "source": [
        "This question wasn’t necessarily all that important to the context of the project, as it was more about showing how the LIKE function could be utilized and that we know how to use it.  If I were to make it adhere to the context of our project, I’d change it up to list the last names beginning with the letter ‘a’ for alphabetical reasons (this would be useful when putting together lists of attendees).  The results did match up to my expectations, as the two first names out of the five were selected, as those were the only ones with the letter ‘a’ in them."
      ]
    },
    {
      "cell_type": "markdown",
      "metadata": {
        "id": "l-cuJ8T8D_sT"
      },
      "source": [
        "Question 3: What fundraising event was the most effective?"
      ]
    },
    {
      "cell_type": "code",
      "metadata": {
        "id": "T2Sik5vogfz6",
        "colab": {
          "base_uri": "https://localhost:8080/",
          "height": 93
        },
        "outputId": "de0cd9e9-ec96-4dc2-cd49-67e76795393b"
      },
      "source": [
        "%%sql\n",
        "SELECT eventType, MAX(totalSales) FROM Fundraising;"
      ],
      "execution_count": null,
      "outputs": [
        {
          "output_type": "stream",
          "text": [
            " * sqlite:///thon.db\n",
            "Done.\n"
          ],
          "name": "stdout"
        },
        {
          "output_type": "execute_result",
          "data": {
            "text/html": [
              "<table>\n",
              "    <tr>\n",
              "        <th>eventType</th>\n",
              "        <th>MAX(totalSales)</th>\n",
              "    </tr>\n",
              "    <tr>\n",
              "        <td>Starbucks Partnership</td>\n",
              "        <td>556.04</td>\n",
              "    </tr>\n",
              "</table>"
            ],
            "text/plain": [
              "[('Starbucks Partnership', 556.04)]"
            ]
          },
          "metadata": {
            "tags": []
          },
          "execution_count": 21
        }
      ]
    },
    {
      "cell_type": "markdown",
      "metadata": {
        "id": "auiViUzJWOla"
      },
      "source": [
        "This question is very important in terms of the context of this project since this could help different organizations analyze what fundraising methods were most effective and which ones weren’t as effective.  This way, they can plan out their fundraising events for the following year in hope that the ones that were effective will be just as successful.  In this example, the Starbucks Partnership was the most effective, which is what I expected since their high volume of customer traffic allowed for the most amount of money to be raised out of all the other methods."
      ]
    }
  ]
}