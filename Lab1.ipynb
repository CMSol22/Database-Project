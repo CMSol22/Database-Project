{
  "nbformat": 4,
  "nbformat_minor": 0,
  "metadata": {
    "colab": {
      "name": "Lab1.ipynb",
      "provenance": [],
      "authorship_tag": "ABX9TyOIkiO5CpDbIm3/90fihup1",
      "include_colab_link": true
    },
    "kernelspec": {
      "name": "python3",
      "display_name": "Python 3"
    }
  },
  "cells": [
    {
      "cell_type": "markdown",
      "metadata": {
        "id": "view-in-github",
        "colab_type": "text"
      },
      "source": [
        "<a href=\"https://colab.research.google.com/github/CMSol22/Database-Project/blob/master/Lab1.ipynb\" target=\"_parent\"><img src=\"https://colab.research.google.com/assets/colab-badge.svg\" alt=\"Open In Colab\"/></a>"
      ]
    },
    {
      "cell_type": "markdown",
      "metadata": {
        "id": "qdn2-GxCgBXH",
        "colab_type": "text"
      },
      "source": [
        "###Do you like using Jupyter Notebooks?"
      ]
    },
    {
      "cell_type": "markdown",
      "metadata": {
        "id": "vTTtWboZiCyY",
        "colab_type": "text"
      },
      "source": [
        "this is my answer"
      ]
    },
    {
      "cell_type": "markdown",
      "metadata": {
        "id": "H-CZrptGg2Vk",
        "colab_type": "text"
      },
      "source": [
        "###What do you want to learn more about in Jupyter Notebooks?"
      ]
    },
    {
      "cell_type": "markdown",
      "metadata": {
        "id": "idQj4wDig_l_",
        "colab_type": "text"
      },
      "source": [
        "this is my answer"
      ]
    },
    {
      "cell_type": "markdown",
      "metadata": {
        "id": "7M96BudMzPg_",
        "colab_type": "text"
      },
      "source": [
        "![Picture of me in LA](https://raw.githubusercontent.com/CMSol22/Database-Project/master/Images/Los%20Santos.jpg)"
      ]
    }
  ]
}