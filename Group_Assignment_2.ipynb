{
  "nbformat": 4,
  "nbformat_minor": 0,
  "metadata": {
    "colab": {
      "name": "Group Assignment 2.ipynb",
      "provenance": [],
      "authorship_tag": "ABX9TyNT+UJ86yKr5RDL3F3B8rxn",
      "include_colab_link": true
    },
    "kernelspec": {
      "name": "python3",
      "display_name": "Python 3"
    }
  },
  "cells": [
    {
      "cell_type": "markdown",
      "metadata": {
        "id": "view-in-github",
        "colab_type": "text"
      },
      "source": [
        "<a href=\"https://colab.research.google.com/github/CMSol22/Database-Project/blob/master/Group_Assignment_2.ipynb\" target=\"_parent\"><img src=\"https://colab.research.google.com/assets/colab-badge.svg\" alt=\"Open In Colab\"/></a>"
      ]
    },
    {
      "cell_type": "code",
      "metadata": {
        "id": "VYE4R0uPMzs2"
      },
      "source": [
        ""
      ],
      "execution_count": null,
      "outputs": []
    },
    {
      "cell_type": "markdown",
      "metadata": {
        "id": "bU_h_WkgM4CL"
      },
      "source": [
        "Our entity relationship diagram contains five entities total, with four all contributing towards the fifth one.  It starts out with the attendees entity, which contains three basic attributes that will identify a single participant for THON.  Despite its significance, it is still entirely optional to participate in THON.  Each attendee is part of an organization, be it a dedicated THON committee, a club, or a fraternity/sorority.  The two share an optional one to many relationship since an individual does not have to be in an organization to participate in THON, and if they do, they can be part of multiple organizations  These organizations then participate in fundraising of various types, which they generate money to help contribute towards THON weekend itself.  The organizations share a many-to-many relationship since many organizations can have many fundraising activities.  The fundraising contributes to THON, which has attributes defining its capacity, the activities throughout the event, the guest appearances, and the total money raised.  The two share a many-to-one relationship, since many fundraising events only contribute to one THON Weekend.  Finally, when THON is over, the total money raised is donated to the donation recipients, who then use it for the respective cause of helping combat pediatric cancer.  This shares a one-to-many relationship since one THON event raises money for multiple recipients."
      ]
    },
    {
      "cell_type": "markdown",
      "metadata": {
        "id": "h7HOl8XIM9Hc"
      },
      "source": [
        "![THON](https://raw.githubusercontent.com/CMSol22/Database-Project/master/Images/THON.png)"
      ]
    }
  ]
}