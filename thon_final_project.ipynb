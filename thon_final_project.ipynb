{
  "nbformat": 4,
  "nbformat_minor": 0,
  "metadata": {
    "colab": {
      "name": "thon final project.ipynb",
      "provenance": [],
      "collapsed_sections": [],
      "include_colab_link": true
    },
    "kernelspec": {
      "name": "python3",
      "display_name": "Python 3"
    }
  },
  "cells": [
    {
      "cell_type": "markdown",
      "metadata": {
        "id": "view-in-github",
        "colab_type": "text"
      },
      "source": [
        "<a href=\"https://colab.research.google.com/github/CMSol22/Database-Project/blob/master/thon_final_project.ipynb\" target=\"_parent\"><img src=\"https://colab.research.google.com/assets/colab-badge.svg\" alt=\"Open In Colab\"/></a>"
      ]
    },
    {
      "cell_type": "markdown",
      "metadata": {
        "id": "9lediy_8aubA"
      },
      "source": [
        "# Introduction to our project\n"
      ]
    },
    {
      "cell_type": "markdown",
      "metadata": {
        "id": "wYNVpfQL9bR5"
      },
      "source": [
        "The topic we choose for our group project was THON. THON is essentially a charity event ran by students in effort of giving back to children and families strongly affected by childhood cancer. We decided to go with THON because everyone knows about THON, but not everyone knows the full process of THON; so we wanted to provide a clear understanding of the whole THON event, where donations come from and go to, and how the event is organized. We started the project by thinking of entities related to THON, after that, we listed the qualities of those entities. The easy part was making the ER diagram, we just had to make a notebook and our entities along with their qualities. After that, we just added the cardinality, connectivity, descriptions, relationships, and foreign keys where needed. Overall, the process of the project went well."
      ]
    },
    {
      "cell_type": "markdown",
      "metadata": {
        "id": "EGElR_mVakoE"
      },
      "source": [
        "![THON 3.png](https://raw.githubusercontent.com/CMSol22/Database-Project/master/Images/THON3.png)"
      ]
    },
    {
      "cell_type": "markdown",
      "metadata": {
        "id": "3GQK_c_jbCCH"
      },
      "source": [
        "# ER Diagram Specifics"
      ]
    },
    {
      "cell_type": "markdown",
      "metadata": {
        "id": "VEQJji1DEDHY"
      },
      "source": [
        "We were able to get our ER diagram into first normal form by making sure we had no repeating groups, multiple valued attributes, and a primary key for every table. All of entities used were related to our topic THON obviously. The attendees entity represented people who attended the THON event, the fundraising entity represented raising money for the event, the THON weekend entity is the overall entity itself, and the donation recipients entity represented the people who would recieve the donations. We got the attributes we used by breaking down our entities and finding the qualities of each entity"
      ]
    },
    {
      "cell_type": "markdown",
      "metadata": {
        "id": "XvAIBbzEeRgM"
      },
      "source": [
        "# 2nd Normal Form\n",
        "Our latest ER diagram fits all requirements to meet second normal form. It fits the requirement to have corresponding dependent attributes. Our attributes fit the description of each individual table in our ER diagram. All of our attributes contribute and depend directly back to the primary key and foreign key of the table."
      ]
    },
    {
      "cell_type": "markdown",
      "metadata": {
        "id": "oL8_gl5ceTrh"
      },
      "source": [
        "# 3rd Normal Form\n",
        "Our latest ER diagram does not fit all requirements to meet third normal form. It fits the first requirement to be in second form. However, third normal form requires that there are no transitive dependencies. All though one of our tables does not have any transitive dependencies all the other tables do have them."
      ]
    },
    {
      "cell_type": "markdown",
      "metadata": {
        "id": "blEVZOZceWoS"
      },
      "source": [
        "# Bryce-Codd Normal Form\r\n",
        "Our latest ER diagram does not fit all requirements to meet Boyce-Codd normal form. It fails to meet the first requirement of being in third normal form. It fails to meet the second requirement of having dependencies that are super keys despite the fact that our tables do have dependencies."
      ]
    },
    {
      "cell_type": "markdown",
      "metadata": {
        "id": "I4-Z6P9Aeavk"
      },
      "source": [
        "# How we created our tables and populated them"
      ]
    },
    {
      "cell_type": "markdown",
      "metadata": {
        "id": "_Aq1fDhE4TU5"
      },
      "source": [
        "We created our database by incorporating our entities and attributes in a ER diagram along with their primary keys, descriptions, relationships, connectivity, and cardinality. Each of our tables consisted of one THON entity with 3-4 attributes of the entity, at least one primary key for each table, and foreign keys for select tables. All of the data we inserted was derived from our brainstorm on the THON entities and the qualities of those entities."
      ]
    },
    {
      "cell_type": "markdown",
      "metadata": {
        "id": "cfWRzDUKekDz"
      },
      "source": [
        "# Database Code"
      ]
    },
    {
      "cell_type": "code",
      "metadata": {
        "colab": {
          "base_uri": "https://localhost:8080/",
          "height": 35
        },
        "id": "xpZQ0lySfKZQ",
        "outputId": "829dfab8-af33-430d-fe1a-5d9bba9c365e"
      },
      "source": [
        "%load_ext sql\r\n",
        "%sql sqlite:///thon.db"
      ],
      "execution_count": null,
      "outputs": [
        {
          "output_type": "execute_result",
          "data": {
            "application/vnd.google.colaboratory.intrinsic+json": {
              "type": "string"
            },
            "text/plain": [
              "'Connected: @thon.db'"
            ]
          },
          "metadata": {
            "tags": []
          },
          "execution_count": 1
        }
      ]
    },
    {
      "cell_type": "code",
      "metadata": {
        "colab": {
          "base_uri": "https://localhost:8080/"
        },
        "id": "uAT_fcOlfK8f",
        "outputId": "d172e73a-96d0-49f5-ef85-0387f4781d09"
      },
      "source": [
        "%%sql   \r\n",
        "DROP TABLE IF EXISTS Attendees;\r\n",
        "CREATE TABLE Attendees(attendeeID text primary key, wristbandNumber integer, firstname text, lastname text);\r\n",
        "\r\n",
        "DROP TABLE IF EXISTS Organizations;\r\n",
        "create table Organizations(orgID text primary key, orgType text, moneyTotal real, numMembers integer);\r\n",
        "\r\n",
        "DROP TABLE IF EXISTS Fundraising;\r\n",
        "create table Fundraising(eventID text primary key, eventType text, numAttendees integer, totalSales real);\r\n",
        "\r\n",
        "DROP TABLE IF EXISTS ThonWeekend;\r\n",
        "create table ThonWeekend(ThonID text primary key, capacity integer, activities text, guestShows text, totalRaised real);\r\n",
        "\r\n",
        "DROP TABLE IF EXISTS DonationRecipients;\r\n",
        "create table DonationRecipients(donationID text primary key, researchers text, ThonFamilies text, fourDiamonds text);"
      ],
      "execution_count": null,
      "outputs": [
        {
          "output_type": "stream",
          "text": [
            " * sqlite:///thon.db\n",
            "Done.\n",
            "Done.\n",
            "Done.\n",
            "Done.\n",
            "Done.\n",
            "Done.\n",
            "Done.\n",
            "Done.\n",
            "Done.\n",
            "Done.\n"
          ],
          "name": "stdout"
        },
        {
          "output_type": "execute_result",
          "data": {
            "text/plain": [
              "[]"
            ]
          },
          "metadata": {
            "tags": []
          },
          "execution_count": 2
        }
      ]
    },
    {
      "cell_type": "code",
      "metadata": {
        "colab": {
          "base_uri": "https://localhost:8080/"
        },
        "id": "_0KY-vPBfNDR",
        "outputId": "aafcade8-da94-4d80-cd56-acc5a016cba5"
      },
      "source": [
        "%%sql \r\n",
        "INSERT INTO Attendees VALUES ('00001',000345,'Christopher','Moreno');\r\n",
        "INSERT INTO Attendees VALUES ('00002',196987,'Kevin','Schmoeller');\r\n",
        "INSERT INTO Attendees VALUES ('00003',184200,'Moussa','Diakite');\r\n",
        "INSERT INTO Attendees VALUES ('00004',145556,'Avery','Briggs');\r\n",
        "INSERT INTO Attendees VALUES ('00005',002654,'Jenn','Smith');\r\n",
        "\r\n",
        "INSERT INTO Organizations VALUES ('Alpha Sigma Phi','Fraternity',56782.55,64);\r\n",
        "INSERT INTO Organizations VALUES ('Delta Zeta','Sorority',55467.89,36);\r\n",
        "INSERT INTO Organizations VALUES ('Atlas','THON Org',70654.35,87);\r\n",
        "INSERT INTO Organizations VALUES ('Volé','Club',53678.23,55);\r\n",
        "INSERT INTO Organizations VALUES ('PSET','Club',67764.92,43);\r\n",
        "\r\n",
        "INSERT INTO Fundraising VALUES ('001','Weirdoughs Partnership',102,445.67);\r\n",
        "INSERT INTO Fundraising VALUES ('002','Starbucks Partnership',167,556.04);\r\n",
        "INSERT INTO Fundraising VALUES ('003','Puppy Petting',82,267.00);\r\n",
        "INSERT INTO Fundraising VALUES ('004','Bake Sale',63,118.50);\r\n",
        "INSERT INTO Fundraising VALUES ('005','Instagram Story Donation Boards',16,347.32);\r\n",
        "\r\n",
        "INSERT INTO ThonWeekend VALUES ('2016',15261,'Facepainting','Fall Out Boy',9770332.32);\r\n",
        "INSERT INTO ThonWeekend VALUES ('2017',15986,'Watergun Fight','Logic',10045478.44);\r\n",
        "INSERT INTO ThonWeekend VALUES ('2018',16000,'Dunk Tank','Halsey',10151663.93);\r\n",
        "INSERT INTO ThonWeekend VALUES ('2019',15617,'Dance-Off','Cash Cash',10621683.73);\r\n",
        "INSERT INTO ThonWeekend VALUES ('2020',7500,'Karaoke','Jonas Brothers',9436218.61);\r\n",
        "\r\n",
        "INSERT INTO DonationRecipients VALUES ('THON 2016','Yale New Haven','Family 1','$9,645,223.00');\r\n",
        "INSERT INTO DonationRecipients VALUES ('THON 2017','St. Jude','Family 2','$9,866,745.00');\r\n",
        "INSERT INTO DonationRecipients VALUES ('THON 2018','Four Diamonds','Family 3','$9,801,233.00');\r\n",
        "INSERT INTO DonationRecipients VALUES ('THON 2019','PCRF','Family 4','$9,900,230.00');\r\n",
        "INSERT INTO DonationRecipients VALUES ('THON 2020','PCF','Family 5','$8,947,005.00');"
      ],
      "execution_count": null,
      "outputs": [
        {
          "output_type": "stream",
          "text": [
            " * sqlite:///thon.db\n",
            "1 rows affected.\n",
            "1 rows affected.\n",
            "1 rows affected.\n",
            "1 rows affected.\n",
            "1 rows affected.\n",
            "1 rows affected.\n",
            "1 rows affected.\n",
            "1 rows affected.\n",
            "1 rows affected.\n",
            "1 rows affected.\n",
            "1 rows affected.\n",
            "1 rows affected.\n",
            "1 rows affected.\n",
            "1 rows affected.\n",
            "1 rows affected.\n",
            "1 rows affected.\n",
            "1 rows affected.\n",
            "1 rows affected.\n",
            "1 rows affected.\n",
            "1 rows affected.\n",
            "1 rows affected.\n",
            "1 rows affected.\n",
            "1 rows affected.\n",
            "1 rows affected.\n",
            "1 rows affected.\n"
          ],
          "name": "stdout"
        },
        {
          "output_type": "execute_result",
          "data": {
            "text/plain": [
              "[]"
            ]
          },
          "metadata": {
            "tags": []
          },
          "execution_count": 3
        }
      ]
    },
    {
      "cell_type": "markdown",
      "metadata": {
        "id": "N9Sd7cjNeoQ3"
      },
      "source": [
        "# Scenario\n",
        "A brand new THON org, called Hope, has quickly been attracting new members and growing in size.  At first it was simple and easy to keep track of the groups participant information and fundraising with only 20 members, but with 40 new added members in the last two months, they can no longer use a simple excel spreadsheet to keep track of their THON org’s data.  Hope’s captain reaches out to us in order to ask if we can create a database to help them keep track of the information of all their individual participants, the fundraising events they do, and how much they contributed to THON overall.  They also want this data stored so they can look back in the future and compare that year’s efforts to other years."
      ]
    },
    {
      "cell_type": "markdown",
      "metadata": {
        "id": "gpp5FZaPfBZP"
      },
      "source": [
        "# Queries"
      ]
    },
    {
      "cell_type": "code",
      "metadata": {
        "colab": {
          "base_uri": "https://localhost:8080/",
          "height": 93
        },
        "id": "-dJ9geGYfa-D",
        "outputId": "d4c7004f-31c7-4164-ba15-ea839b58c11d"
      },
      "source": [
        "%%sql\r\n",
        "SELECT eventType, MAX(totalSales), MAX(numAttendees) FROM Fundraising;"
      ],
      "execution_count": null,
      "outputs": [
        {
          "output_type": "stream",
          "text": [
            " * sqlite:///thon.db\n",
            "Done.\n"
          ],
          "name": "stdout"
        },
        {
          "output_type": "execute_result",
          "data": {
            "text/html": [
              "<table>\n",
              "    <thead>\n",
              "        <tr>\n",
              "            <th>eventType</th>\n",
              "            <th>MAX(totalSales)</th>\n",
              "            <th>MAX(numAttendees)</th>\n",
              "        </tr>\n",
              "    </thead>\n",
              "    <tbody>\n",
              "        <tr>\n",
              "            <td>Starbucks Partnership</td>\n",
              "            <td>556.04</td>\n",
              "            <td>167</td>\n",
              "        </tr>\n",
              "    </tbody>\n",
              "</table>"
            ],
            "text/plain": [
              "[('Starbucks Partnership', 556.04, 167)]"
            ]
          },
          "metadata": {
            "tags": []
          },
          "execution_count": 4
        }
      ]
    },
    {
      "cell_type": "markdown",
      "metadata": {
        "id": "jbMf7uDr2MjO"
      },
      "source": [
        "This query is extremely helpful in this scenario because this will allow Hope to look at their past fundraising events and see which ones generated the most amount of funds/were most popular.  With this data, the group can redo events that were popular and replace events that had the least amount of activity, if necessary"
      ]
    },
    {
      "cell_type": "code",
      "metadata": {
        "id": "SIk9x9HK5gEZ",
        "colab": {
          "base_uri": "https://localhost:8080/",
          "height": 133
        },
        "outputId": "5ceb20fa-1a91-4170-c9d5-e066c521af42"
      },
      "source": [
        "%%sql\n",
        "SELECT OrgID, numMembers FROM Organizations ORDER BY moneyTotal DESC limit 3;"
      ],
      "execution_count": null,
      "outputs": [
        {
          "output_type": "stream",
          "text": [
            " * sqlite:///thon.db\n",
            "Done.\n"
          ],
          "name": "stdout"
        },
        {
          "output_type": "execute_result",
          "data": {
            "text/html": [
              "<table>\n",
              "    <thead>\n",
              "        <tr>\n",
              "            <th>orgID</th>\n",
              "            <th>numMembers</th>\n",
              "        </tr>\n",
              "    </thead>\n",
              "    <tbody>\n",
              "        <tr>\n",
              "            <td>Atlas</td>\n",
              "            <td>87</td>\n",
              "        </tr>\n",
              "        <tr>\n",
              "            <td>PSET</td>\n",
              "            <td>43</td>\n",
              "        </tr>\n",
              "        <tr>\n",
              "            <td>Alpha Sigma Phi</td>\n",
              "            <td>64</td>\n",
              "        </tr>\n",
              "    </tbody>\n",
              "</table>"
            ],
            "text/plain": [
              "[('Atlas', 87), ('PSET', 43), ('Alpha Sigma Phi', 64)]"
            ]
          },
          "metadata": {
            "tags": []
          },
          "execution_count": 5
        }
      ]
    },
    {
      "cell_type": "markdown",
      "metadata": {
        "id": "m-Rhidfd78Gc"
      },
      "source": [
        "The use of this one is similar to the previous SQL search query, as it's best used in terms of comparison.  Organizations can compare themselves to previous years, as well as strive to be among the top three fundraisers.  On a side note, this can also be used as a simple way to continuously keep track of the fundraising status of each and every group, so long as you get rid of the limit 3 in the code."
      ]
    },
    {
      "cell_type": "code",
      "metadata": {
        "id": "_BlsROSq6bMN",
        "colab": {
          "base_uri": "https://localhost:8080/",
          "height": 113
        },
        "outputId": "9cad2f35-f2a8-419b-8cb0-b92379792369"
      },
      "source": [
        "%%sql\n",
        "SELECT wristbandNumber, firstName, lastName FROM Attendees where lastName LIKE \"S%\";"
      ],
      "execution_count": null,
      "outputs": [
        {
          "output_type": "stream",
          "text": [
            " * sqlite:///thon.db\n",
            "Done.\n"
          ],
          "name": "stdout"
        },
        {
          "output_type": "execute_result",
          "data": {
            "text/html": [
              "<table>\n",
              "    <thead>\n",
              "        <tr>\n",
              "            <th>wristbandNumber</th>\n",
              "            <th>firstname</th>\n",
              "            <th>lastname</th>\n",
              "        </tr>\n",
              "    </thead>\n",
              "    <tbody>\n",
              "        <tr>\n",
              "            <td>196987</td>\n",
              "            <td>Kevin</td>\n",
              "            <td>Schmoeller</td>\n",
              "        </tr>\n",
              "        <tr>\n",
              "            <td>2654</td>\n",
              "            <td>Jenn</td>\n",
              "            <td>Smith</td>\n",
              "        </tr>\n",
              "    </tbody>\n",
              "</table>"
            ],
            "text/plain": [
              "[(196987, 'Kevin', 'Schmoeller'), (2654, 'Jenn', 'Smith')]"
            ]
          },
          "metadata": {
            "tags": []
          },
          "execution_count": 8
        }
      ]
    },
    {
      "cell_type": "markdown",
      "metadata": {
        "id": "B_rDe5sCLk4L"
      },
      "source": [
        "This query can be very useful if anybody needs to sort a list of THON attendees alphabetically by their last name.  By doing this, any individuals that are responsible for helping to create rosters, keep track of team members, and hand out wristbands have an easy way or organizing and locating names."
      ]
    }
  ]
}